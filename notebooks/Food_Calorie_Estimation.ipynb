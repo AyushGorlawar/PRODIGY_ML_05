{
 "cells": [
  {
   "cell_type": "code",
   "execution_count": null,
   "metadata": {},
   "outputs": [],
   "source": [
    "import matplotlib.pyplot as plt\n",
    "import numpy as np\n",
    "import torch\n",
    "\n",
    "def image_shower(images, labels, classes, n=4):\n",
    "    plt.figure(figsize=(12, 12))\n",
    "    for i in range(n):\n",
    "        plt.subplot(1, n, i + 1)\n",
    "        img = images[i] / 2 + 0.5  # unnormalize\n",
    "        npimg = img.numpy()\n",
    "        plt.imshow(np.transpose(npimg, (1, 2, 0)))\n",
    "        plt.title(classes[labels[i]])\n",
    "    plt.show()\n",
    "\n",
    "# Usage example in the notebook\n",
    "from data_loader import load_data\n",
    "data_dir = '../data/food-101/images'\n",
    "trainloader, classes = load_data(data_dir, batch_size=4)\n",
    "images, labels = next(iter(trainloader))\n",
    "image_shower(images, labels, classes, n=4)\n"
   ]
  }
 ],
 "metadata": {
  "language_info": {
   "name": "python"
  }
 },
 "nbformat": 4,
 "nbformat_minor": 2
}
